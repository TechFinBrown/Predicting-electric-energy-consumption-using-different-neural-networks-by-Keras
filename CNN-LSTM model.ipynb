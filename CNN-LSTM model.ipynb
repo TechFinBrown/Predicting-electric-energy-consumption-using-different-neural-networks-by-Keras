{
 "cells": [
  {
   "cell_type": "code",
   "execution_count": 42,
   "metadata": {},
   "outputs": [],
   "source": [
    "# multivariate multi-step encoder-decoder lstm\n",
    "from math import sqrt\n",
    "from numpy import split\n",
    "from numpy import array\n",
    "from pandas import read_csv\n",
    "from sklearn.metrics import mean_squared_error\n",
    "from matplotlib import pyplot\n",
    "from keras.models import Sequential\n",
    "from keras.layers import Dense\n",
    "from keras.layers import Flatten\n",
    "from keras.layers import LSTM\n",
    "from keras.layers import RepeatVector\n",
    "from keras.layers import TimeDistributed\n",
    "from keras.layers import Activation\n",
    "\n",
    "\n",
    "import pandas as pd\n",
    "import numpy as np\n",
    "import matplotlib.pyplot as plt\n",
    "%matplotlib inline\n",
    "\n",
    "import seaborn as sns\n",
    "from pandas import DataFrame\n",
    "from pandas import Series\n",
    "from pandas import concat\n",
    "from pandas import read_csv\n",
    "from pandas import datetime\n",
    "from sklearn.metrics import mean_squared_error\n",
    "from sklearn.preprocessing import MinMaxScaler, StandardScaler\n",
    "from keras.models import Sequential\n",
    "from keras.layers import Dense,Dropout, Activation\n",
    "from keras.layers import Conv1D, Dense, MaxPooling1D, Flatten\n",
    "from math import sqrt\n",
    "from matplotlib import pyplot\n",
    "from numpy import array\n",
    "import numpy as np\n",
    "from keras.layers import LSTM , CuDNNLSTM\n",
    "import matplotlib.pyplot as plt\n",
    "import pandas as pd\n",
    "sns.set()"
   ]
  },
  {
   "cell_type": "code",
   "execution_count": 2,
   "metadata": {},
   "outputs": [
    {
     "name": "stdout",
     "output_type": "stream",
     "text": [
      "/mlsteam/lab/electric_time_series\n"
     ]
    }
   ],
   "source": [
    "cd electric_time_series/"
   ]
  },
  {
   "cell_type": "markdown",
   "metadata": {},
   "source": [
    "Load the file"
   ]
  },
  {
   "cell_type": "code",
   "execution_count": 56,
   "metadata": {},
   "outputs": [],
   "source": [
    "dataset = read_csv('household_power_consumption.csv', header=0, infer_datetime_format=True, parse_dates=['datetime'], index_col=['datetime'])\n",
    "dataset = dataset.reset_index()"
   ]
  },
  {
   "cell_type": "code",
   "execution_count": 57,
   "metadata": {},
   "outputs": [],
   "source": [
    "dataset[['datetime']] = dataset[['datetime']].astype(str)\n"
   ]
  },
  {
   "cell_type": "code",
   "execution_count": 58,
   "metadata": {},
   "outputs": [
    {
     "name": "stdout",
     "output_type": "stream",
     "text": [
      "<class 'pandas.core.frame.DataFrame'>\n",
      "RangeIndex: 2075259 entries, 0 to 2075258\n",
      "Data columns (total 9 columns):\n",
      "datetime                 object\n",
      "Global_active_power      float64\n",
      "Global_reactive_power    float64\n",
      "Voltage                  float64\n",
      "Global_intensity         float64\n",
      "Sub_metering_1           float64\n",
      "Sub_metering_2           float64\n",
      "Sub_metering_3           float64\n",
      "sub_metering_4           float64\n",
      "dtypes: float64(8), object(1)\n",
      "memory usage: 142.5+ MB\n"
     ]
    }
   ],
   "source": [
    "dataset.info()"
   ]
  },
  {
   "cell_type": "code",
   "execution_count": 60,
   "metadata": {},
   "outputs": [
    {
     "data": {
      "text/plain": [
       "datetime                 0\n",
       "Global_active_power      0\n",
       "Global_reactive_power    0\n",
       "Voltage                  0\n",
       "Global_intensity         0\n",
       "Sub_metering_1           0\n",
       "Sub_metering_2           0\n",
       "Sub_metering_3           0\n",
       "sub_metering_4           0\n",
       "dtype: int64"
      ]
     },
     "execution_count": 60,
     "metadata": {},
     "output_type": "execute_result"
    }
   ],
   "source": [
    "dataset.isnull().sum()"
   ]
  },
  {
   "cell_type": "code",
   "execution_count": 61,
   "metadata": {},
   "outputs": [],
   "source": [
    "dataset = dataset.drop(['datetime'], axis=1)\n"
   ]
  },
  {
   "cell_type": "code",
   "execution_count": 62,
   "metadata": {},
   "outputs": [
    {
     "data": {
      "text/html": [
       "<div>\n",
       "<style scoped>\n",
       "    .dataframe tbody tr th:only-of-type {\n",
       "        vertical-align: middle;\n",
       "    }\n",
       "\n",
       "    .dataframe tbody tr th {\n",
       "        vertical-align: top;\n",
       "    }\n",
       "\n",
       "    .dataframe thead th {\n",
       "        text-align: right;\n",
       "    }\n",
       "</style>\n",
       "<table border=\"1\" class=\"dataframe\">\n",
       "  <thead>\n",
       "    <tr style=\"text-align: right;\">\n",
       "      <th></th>\n",
       "      <th>Global_active_power</th>\n",
       "      <th>Global_reactive_power</th>\n",
       "      <th>Voltage</th>\n",
       "      <th>Global_intensity</th>\n",
       "      <th>Sub_metering_1</th>\n",
       "      <th>Sub_metering_2</th>\n",
       "      <th>Sub_metering_3</th>\n",
       "      <th>sub_metering_4</th>\n",
       "    </tr>\n",
       "  </thead>\n",
       "  <tbody>\n",
       "    <tr>\n",
       "      <th>0</th>\n",
       "      <td>4.216</td>\n",
       "      <td>0.418</td>\n",
       "      <td>234.84</td>\n",
       "      <td>18.4</td>\n",
       "      <td>0.0</td>\n",
       "      <td>1.0</td>\n",
       "      <td>17.0</td>\n",
       "      <td>52.266670</td>\n",
       "    </tr>\n",
       "    <tr>\n",
       "      <th>1</th>\n",
       "      <td>5.360</td>\n",
       "      <td>0.436</td>\n",
       "      <td>233.63</td>\n",
       "      <td>23.0</td>\n",
       "      <td>0.0</td>\n",
       "      <td>1.0</td>\n",
       "      <td>16.0</td>\n",
       "      <td>72.333336</td>\n",
       "    </tr>\n",
       "    <tr>\n",
       "      <th>2</th>\n",
       "      <td>5.374</td>\n",
       "      <td>0.498</td>\n",
       "      <td>233.29</td>\n",
       "      <td>23.0</td>\n",
       "      <td>0.0</td>\n",
       "      <td>2.0</td>\n",
       "      <td>17.0</td>\n",
       "      <td>70.566666</td>\n",
       "    </tr>\n",
       "    <tr>\n",
       "      <th>3</th>\n",
       "      <td>5.388</td>\n",
       "      <td>0.502</td>\n",
       "      <td>233.74</td>\n",
       "      <td>23.0</td>\n",
       "      <td>0.0</td>\n",
       "      <td>1.0</td>\n",
       "      <td>17.0</td>\n",
       "      <td>71.800000</td>\n",
       "    </tr>\n",
       "    <tr>\n",
       "      <th>4</th>\n",
       "      <td>3.666</td>\n",
       "      <td>0.528</td>\n",
       "      <td>235.68</td>\n",
       "      <td>15.8</td>\n",
       "      <td>0.0</td>\n",
       "      <td>1.0</td>\n",
       "      <td>17.0</td>\n",
       "      <td>43.100000</td>\n",
       "    </tr>\n",
       "  </tbody>\n",
       "</table>\n",
       "</div>"
      ],
      "text/plain": [
       "   Global_active_power  Global_reactive_power  Voltage  Global_intensity  \\\n",
       "0                4.216                  0.418   234.84              18.4   \n",
       "1                5.360                  0.436   233.63              23.0   \n",
       "2                5.374                  0.498   233.29              23.0   \n",
       "3                5.388                  0.502   233.74              23.0   \n",
       "4                3.666                  0.528   235.68              15.8   \n",
       "\n",
       "   Sub_metering_1  Sub_metering_2  Sub_metering_3  sub_metering_4  \n",
       "0             0.0             1.0            17.0       52.266670  \n",
       "1             0.0             1.0            16.0       72.333336  \n",
       "2             0.0             2.0            17.0       70.566666  \n",
       "3             0.0             1.0            17.0       71.800000  \n",
       "4             0.0             1.0            17.0       43.100000  "
      ]
     },
     "execution_count": 62,
     "metadata": {},
     "output_type": "execute_result"
    }
   ],
   "source": [
    "dataset.head()"
   ]
  },
  {
   "cell_type": "code",
   "execution_count": 63,
   "metadata": {},
   "outputs": [
    {
     "data": {
      "text/html": [
       "<div>\n",
       "<style scoped>\n",
       "    .dataframe tbody tr th:only-of-type {\n",
       "        vertical-align: middle;\n",
       "    }\n",
       "\n",
       "    .dataframe tbody tr th {\n",
       "        vertical-align: top;\n",
       "    }\n",
       "\n",
       "    .dataframe thead th {\n",
       "        text-align: right;\n",
       "    }\n",
       "</style>\n",
       "<table border=\"1\" class=\"dataframe\">\n",
       "  <thead>\n",
       "    <tr style=\"text-align: right;\">\n",
       "      <th></th>\n",
       "      <th>Global_active_power</th>\n",
       "      <th>Global_reactive_power</th>\n",
       "      <th>Voltage</th>\n",
       "      <th>Global_intensity</th>\n",
       "      <th>Sub_metering_1</th>\n",
       "      <th>Sub_metering_2</th>\n",
       "      <th>Sub_metering_3</th>\n",
       "      <th>sub_metering_4</th>\n",
       "    </tr>\n",
       "  </thead>\n",
       "  <tbody>\n",
       "    <tr>\n",
       "      <th>Global_active_power</th>\n",
       "      <td>1.000000</td>\n",
       "      <td>0.247088</td>\n",
       "      <td>-0.396853</td>\n",
       "      <td>0.998884</td>\n",
       "      <td>0.484110</td>\n",
       "      <td>0.434012</td>\n",
       "      <td>0.638966</td>\n",
       "      <td>0.700756</td>\n",
       "    </tr>\n",
       "    <tr>\n",
       "      <th>Global_reactive_power</th>\n",
       "      <td>0.247088</td>\n",
       "      <td>1.000000</td>\n",
       "      <td>-0.110802</td>\n",
       "      <td>0.266219</td>\n",
       "      <td>0.123006</td>\n",
       "      <td>0.139321</td>\n",
       "      <td>0.089949</td>\n",
       "      <td>0.211442</td>\n",
       "    </tr>\n",
       "    <tr>\n",
       "      <th>Voltage</th>\n",
       "      <td>-0.396853</td>\n",
       "      <td>-0.110802</td>\n",
       "      <td>1.000000</td>\n",
       "      <td>-0.408480</td>\n",
       "      <td>-0.195018</td>\n",
       "      <td>-0.165702</td>\n",
       "      <td>-0.265935</td>\n",
       "      <td>-0.269298</td>\n",
       "    </tr>\n",
       "    <tr>\n",
       "      <th>Global_intensity</th>\n",
       "      <td>0.998884</td>\n",
       "      <td>0.266219</td>\n",
       "      <td>-0.408480</td>\n",
       "      <td>1.000000</td>\n",
       "      <td>0.489027</td>\n",
       "      <td>0.439780</td>\n",
       "      <td>0.626952</td>\n",
       "      <td>0.702647</td>\n",
       "    </tr>\n",
       "    <tr>\n",
       "      <th>Sub_metering_1</th>\n",
       "      <td>0.484110</td>\n",
       "      <td>0.123006</td>\n",
       "      <td>-0.195018</td>\n",
       "      <td>0.489027</td>\n",
       "      <td>1.000000</td>\n",
       "      <td>0.054468</td>\n",
       "      <td>0.101996</td>\n",
       "      <td>0.124699</td>\n",
       "    </tr>\n",
       "    <tr>\n",
       "      <th>Sub_metering_2</th>\n",
       "      <td>0.434012</td>\n",
       "      <td>0.139321</td>\n",
       "      <td>-0.165702</td>\n",
       "      <td>0.439780</td>\n",
       "      <td>0.054468</td>\n",
       "      <td>1.000000</td>\n",
       "      <td>0.081440</td>\n",
       "      <td>0.084800</td>\n",
       "    </tr>\n",
       "    <tr>\n",
       "      <th>Sub_metering_3</th>\n",
       "      <td>0.638966</td>\n",
       "      <td>0.089949</td>\n",
       "      <td>-0.265935</td>\n",
       "      <td>0.626952</td>\n",
       "      <td>0.101996</td>\n",
       "      <td>0.081440</td>\n",
       "      <td>1.000000</td>\n",
       "      <td>0.177762</td>\n",
       "    </tr>\n",
       "    <tr>\n",
       "      <th>sub_metering_4</th>\n",
       "      <td>0.700756</td>\n",
       "      <td>0.211442</td>\n",
       "      <td>-0.269298</td>\n",
       "      <td>0.702647</td>\n",
       "      <td>0.124699</td>\n",
       "      <td>0.084800</td>\n",
       "      <td>0.177762</td>\n",
       "      <td>1.000000</td>\n",
       "    </tr>\n",
       "  </tbody>\n",
       "</table>\n",
       "</div>"
      ],
      "text/plain": [
       "                       Global_active_power  Global_reactive_power   Voltage  \\\n",
       "Global_active_power               1.000000               0.247088 -0.396853   \n",
       "Global_reactive_power             0.247088               1.000000 -0.110802   \n",
       "Voltage                          -0.396853              -0.110802  1.000000   \n",
       "Global_intensity                  0.998884               0.266219 -0.408480   \n",
       "Sub_metering_1                    0.484110               0.123006 -0.195018   \n",
       "Sub_metering_2                    0.434012               0.139321 -0.165702   \n",
       "Sub_metering_3                    0.638966               0.089949 -0.265935   \n",
       "sub_metering_4                    0.700756               0.211442 -0.269298   \n",
       "\n",
       "                       Global_intensity  Sub_metering_1  Sub_metering_2  \\\n",
       "Global_active_power            0.998884        0.484110        0.434012   \n",
       "Global_reactive_power          0.266219        0.123006        0.139321   \n",
       "Voltage                       -0.408480       -0.195018       -0.165702   \n",
       "Global_intensity               1.000000        0.489027        0.439780   \n",
       "Sub_metering_1                 0.489027        1.000000        0.054468   \n",
       "Sub_metering_2                 0.439780        0.054468        1.000000   \n",
       "Sub_metering_3                 0.626952        0.101996        0.081440   \n",
       "sub_metering_4                 0.702647        0.124699        0.084800   \n",
       "\n",
       "                       Sub_metering_3  sub_metering_4  \n",
       "Global_active_power          0.638966        0.700756  \n",
       "Global_reactive_power        0.089949        0.211442  \n",
       "Voltage                     -0.265935       -0.269298  \n",
       "Global_intensity             0.626952        0.702647  \n",
       "Sub_metering_1               0.101996        0.124699  \n",
       "Sub_metering_2               0.081440        0.084800  \n",
       "Sub_metering_3               1.000000        0.177762  \n",
       "sub_metering_4               0.177762        1.000000  "
      ]
     },
     "execution_count": 63,
     "metadata": {},
     "output_type": "execute_result"
    }
   ],
   "source": [
    "dataset.corr()"
   ]
  },
  {
   "cell_type": "code",
   "execution_count": 64,
   "metadata": {},
   "outputs": [
    {
     "data": {
      "text/plain": [
       "[<matplotlib.lines.Line2D at 0x7f0eb5b9d5c0>]"
      ]
     },
     "execution_count": 64,
     "metadata": {},
     "output_type": "execute_result"
    },
    {
     "data": {
      "image/png": "[encoded data removed]",
      "text/plain": [
       "<Figure size 432x288 with 1 Axes>"
      ]
     },
     "metadata": {},
     "output_type": "display_data"
    }
   ],
   "source": [
    "plt_elec_data = dataset['Global_active_power'][-245*31:].values\n",
    "plt.plot(plt_elec_data)"
   ]
  },
  {
   "cell_type": "code",
   "execution_count": 65,
   "metadata": {},
   "outputs": [],
   "source": [
    "# convert time series into supervised learning problem\n",
    "def series_to_supervised(data, n_in=1, n_out=1, dropnan=True):\n",
    "\tn_vars = 1 if type(data) is list else data.shape[1]\n",
    "\tdf = DataFrame(data)\n",
    "\tcols, names = list(), list()\n",
    "\t# input sequence (t-n, ... t-1)\n",
    "\tfor i in range(n_in, 0, -1):\n",
    "\t\tcols.append(df.shift(i))\n",
    "\t\tnames += [('var%d(t-%d)' % (j+1, i)) for j in range(n_vars)]\n",
    "\t# forecast sequence (t, t+1, ... t+n)\n",
    "\tfor i in range(0, n_out):\n",
    "\t\tcols.append(df.shift(-i))\n",
    "\t\tif i == 0:\n",
    "\t\t\tnames += [('var%d(t)' % (j+1)) for j in range(n_vars)]\n",
    "\t\telse:\n",
    "\t\t\tnames += [('var%d(t+%d)' % (j+1, i)) for j in range(n_vars)]\n",
    "\t# put it all together\n",
    "\tagg = concat(cols, axis=1)\n",
    "\tagg.columns = names\n",
    "\t# drop rows with NaN values\n",
    "\tif dropnan:\n",
    "\t\tagg.dropna(inplace=True)\n",
    "\treturn agg"
   ]
  },
  {
   "cell_type": "code",
   "execution_count": 98,
   "metadata": {},
   "outputs": [],
   "source": [
    "# configure\n",
    "n_lag = 60\n",
    "look_back = n_lag\n",
    "n_seq = 10\n",
    "pred_length = n_seq\n",
    "features = 8\n",
    "n_neurons = 64\n",
    "n_batch = 24"
   ]
  },
  {
   "cell_type": "code",
   "execution_count": 99,
   "metadata": {},
   "outputs": [
    {
     "name": "stdout",
     "output_type": "stream",
     "text": [
      "train (7105, 560)\n",
      "test (245, 560)\n"
     ]
    }
   ],
   "source": [
    "#multivariate\n",
    "seq2seq_raw_values = dataset.values\n",
    "test_value = seq2seq_raw_values[:,0].reshape(len(seq2seq_raw_values),1)\n",
    "# rescale values to -1, 1\n",
    "scaler_trans = MinMaxScaler(feature_range=(-1, 1))\n",
    "transfor_fun = scaler_trans.fit_transform(test_value)\n",
    "# rescale values to -1, 1\n",
    "scaler = MinMaxScaler(feature_range=(-1, 1))\n",
    "scaled_values = scaler.fit_transform(seq2seq_raw_values)\n",
    "########################\n",
    "#scaled_values = seq2seq_raw_values\n",
    "#print(scaled_values[:27])\n",
    "# transform into supervised learning problem X, y\n",
    "supervised = series_to_supervised(scaled_values, n_lag, n_seq)\n",
    "supervised_values = supervised.values\n",
    "supervised_values.shape\n",
    "train, test = supervised_values[-245*30:-245*1], supervised_values[-245*1:]\n",
    "\n",
    "print('train',train.shape)\n",
    "print('test',test.shape)"
   ]
  },
  {
   "cell_type": "code",
   "execution_count": 100,
   "metadata": {},
   "outputs": [
    {
     "name": "stdout",
     "output_type": "stream",
     "text": [
      "encoder_input_data (7105, 60, 8) decoder_target_data (7105, 10, 1)\n"
     ]
    }
   ],
   "source": [
    "encoder_input_data , decoder_target_data = train[: , :n_lag*features] , train[:, n_lag*features:]\n",
    "decoder_target_data = decoder_target_data[: , ::features]\n",
    "encoder_input_data = encoder_input_data.reshape((encoder_input_data.shape[0], n_lag, features))\n",
    "decoder_target_data = decoder_target_data.reshape((decoder_target_data.shape[0],decoder_target_data.shape[1],1))\n",
    "print(\"encoder_input_data\",encoder_input_data.shape,\"decoder_target_data\",decoder_target_data.shape)"
   ]
  },
  {
   "cell_type": "raw",
   "metadata": {},
   "source": [
    "encoder_input_data[0] like \n",
    "array([[  0.,   1.,   2.,   3.,   4.,   5.,   6.,   7.],\n",
    "       [  8.,   9.,  10.,  11.,  12.,  13.,  14.,  15.],\n",
    "       [ 16.,  17.,  18.,  19.,  20.,  21.,  22.,  23.],\n",
    "       [ 24.,  25.,  26.,  27.,  28.,  29.,  30.,  31.],\n",
    "       [ 32.,  33.,  34.,  35.,  36.,  37.,  38.,  39.],\n",
    "       [ 40.,  41.,  42.,  43.,  44.,  45.,  46.,  47.],\n",
    "       [ 48.,  49.,  50.,  51.,  52.,  53.,  54.,  55.],\n",
    "       [ 56.,  57.,  58.,  59.,  60.,  61.,  62.,  63.],\n",
    "       [ 64.,  65.,  66.,  67.,  68.,  69.,  70.,  71.],\n",
    "       [ 72.,  73.,  74.,  75.,  76.,  77.,  78.,  79.],\n",
    "       [ 80.,  81.,  82.,  83.,  84.,  85.,  86.,  87.],\n",
    "       [ 88.,  89.,  90.,  91.,  92.,  93.,  94.,  95.],\n",
    "       [ 96.,  97.,  98.,  99., 100., 101., 102., 103.],\n",
    "       [104., 105., 106., 107., 108., 109., 110., 111.]])\n",
    "decoder_target_data[0]\n",
    "array([[112.],\n",
    "       [120.],\n",
    "       [128.]])"
   ]
  },
  {
   "cell_type": "code",
   "execution_count": 101,
   "metadata": {},
   "outputs": [],
   "source": [
    "model = Sequential()\n",
    "model.add(Conv1D(filters=64, kernel_size=2, activation='relu', input_shape=(encoder_input_data.shape[1], encoder_input_data.shape[2])))\n",
    "model.add(MaxPooling1D(pool_size=2))\n",
    "model.add(Conv1D(filters=64, kernel_size=2, activation='relu'))\n",
    "model.add(MaxPooling1D(pool_size=2))\n",
    "model.add(Flatten())\n",
    "model.add(RepeatVector(pred_length))\n",
    "\n",
    "model.add(TimeDistributed(Dense(64)))\n",
    "model.add(CuDNNLSTM(64,  return_sequences=True))\n",
    "model.add(Activation('tanh'))\n",
    "\n",
    "model.add(TimeDistributed(Dense(32, activation='relu')))\n",
    "model.add(TimeDistributed(Dense(10, activation='relu')))\n",
    "model.add(TimeDistributed(Dense(1)))\n",
    "model.compile(loss='mse', optimizer='adam')\n"
   ]
  },
  {
   "cell_type": "code",
   "execution_count": 102,
   "metadata": {},
   "outputs": [
    {
     "name": "stdout",
     "output_type": "stream",
     "text": [
      "Model: \"sequential_8\"\n",
      "_________________________________________________________________\n",
      "Layer (type)                 Output Shape              Param #   \n",
      "=================================================================\n",
      "conv1d_14 (Conv1D)           (None, 59, 64)            1088      \n",
      "_________________________________________________________________\n",
      "max_pooling1d_13 (MaxPooling (None, 29, 64)            0         \n",
      "_________________________________________________________________\n",
      "conv1d_15 (Conv1D)           (None, 28, 64)            8256      \n",
      "_________________________________________________________________\n",
      "max_pooling1d_14 (MaxPooling (None, 14, 64)            0         \n",
      "_________________________________________________________________\n",
      "flatten_7 (Flatten)          (None, 896)               0         \n",
      "_________________________________________________________________\n",
      "repeat_vector_7 (RepeatVecto (None, 10, 896)           0         \n",
      "_________________________________________________________________\n",
      "time_distributed_22 (TimeDis (None, 10, 64)            57408     \n",
      "_________________________________________________________________\n",
      "cu_dnnlstm_6 (CuDNNLSTM)     (None, 10, 64)            33280     \n",
      "_________________________________________________________________\n",
      "activation_4 (Activation)    (None, 10, 64)            0         \n",
      "_________________________________________________________________\n",
      "time_distributed_23 (TimeDis (None, 10, 32)            2080      \n",
      "_________________________________________________________________\n",
      "time_distributed_24 (TimeDis (None, 10, 10)            330       \n",
      "_________________________________________________________________\n",
      "time_distributed_25 (TimeDis (None, 10, 1)             11        \n",
      "=================================================================\n",
      "Total params: 102,453\n",
      "Trainable params: 102,453\n",
      "Non-trainable params: 0\n",
      "_________________________________________________________________\n"
     ]
    }
   ],
   "source": [
    "model.summary()"
   ]
  },
  {
   "cell_type": "code",
   "execution_count": 103,
   "metadata": {},
   "outputs": [
    {
     "name": "stderr",
     "output_type": "stream",
     "text": [
      "/usr/local/lib/python3.6/dist-packages/ipykernel_launcher.py:6: UserWarning: The `nb_epoch` argument in `fit` has been renamed `epochs`.\n",
      "  \n"
     ]
    },
    {
     "name": "stdout",
     "output_type": "stream",
     "text": [
      "Train on 6039 samples, validate on 1066 samples\n",
      "Epoch 1/100\n",
      "6039/6039 [==============================] - 6s 1ms/step - loss: 0.0356 - val_loss: 0.0149\n",
      "Epoch 2/100\n",
      "6039/6039 [==============================] - 3s 489us/step - loss: 0.0115 - val_loss: 0.0090\n",
      "Epoch 3/100\n",
      "6039/6039 [==============================] - 3s 488us/step - loss: 0.0104 - val_loss: 0.0094\n",
      "Epoch 4/100\n",
      "6039/6039 [==============================] - 3s 495us/step - loss: 0.0092 - val_loss: 0.0076\n",
      "Epoch 5/100\n",
      "6039/6039 [==============================] - 3s 493us/step - loss: 0.0086 - val_loss: 0.0087\n",
      "Epoch 6/100\n",
      "6039/6039 [==============================] - 3s 484us/step - loss: 0.0081 - val_loss: 0.0083\n",
      "Epoch 7/100\n",
      "6039/6039 [==============================] - 3s 484us/step - loss: 0.0077 - val_loss: 0.0070\n",
      "Epoch 8/100\n",
      "6039/6039 [==============================] - 3s 484us/step - loss: 0.0074 - val_loss: 0.0068\n",
      "Epoch 9/100\n",
      "6039/6039 [==============================] - 3s 491us/step - loss: 0.0071 - val_loss: 0.0072\n",
      "Epoch 10/100\n",
      "6039/6039 [==============================] - 3s 490us/step - loss: 0.0069 - val_loss: 0.0072\n",
      "Epoch 11/100\n",
      "6039/6039 [==============================] - 3s 484us/step - loss: 0.0064 - val_loss: 0.0070\n",
      "Epoch 12/100\n",
      "6039/6039 [==============================] - 3s 489us/step - loss: 0.0063 - val_loss: 0.0076\n",
      "Epoch 13/100\n",
      "6039/6039 [==============================] - 3s 486us/step - loss: 0.0062 - val_loss: 0.0074\n",
      "Epoch 14/100\n",
      "6039/6039 [==============================] - 3s 480us/step - loss: 0.0058 - val_loss: 0.0081\n",
      "Epoch 15/100\n",
      "6039/6039 [==============================] - 3s 489us/step - loss: 0.0057 - val_loss: 0.0087\n",
      "Epoch 16/100\n",
      "6039/6039 [==============================] - 3s 491us/step - loss: 0.0053 - val_loss: 0.0089\n",
      "Epoch 17/100\n",
      "6039/6039 [==============================] - 3s 498us/step - loss: 0.0050 - val_loss: 0.0097\n",
      "Epoch 18/100\n",
      "6039/6039 [==============================] - 3s 507us/step - loss: 0.0048 - val_loss: 0.0102\n",
      "Epoch 19/100\n",
      "6039/6039 [==============================] - 3s 495us/step - loss: 0.0048 - val_loss: 0.0083\n",
      "Epoch 20/100\n",
      "6039/6039 [==============================] - 3s 500us/step - loss: 0.0045 - val_loss: 0.0110\n",
      "Epoch 21/100\n",
      "6039/6039 [==============================] - 3s 520us/step - loss: 0.0048 - val_loss: 0.0102\n",
      "Epoch 22/100\n",
      "6039/6039 [==============================] - 3s 521us/step - loss: 0.0044 - val_loss: 0.0110\n",
      "Epoch 23/100\n",
      "6039/6039 [==============================] - 3s 513us/step - loss: 0.0043 - val_loss: 0.0116\n",
      "Epoch 24/100\n",
      "6039/6039 [==============================] - 3s 498us/step - loss: 0.0039 - val_loss: 0.0109\n",
      "Epoch 25/100\n",
      "6039/6039 [==============================] - 3s 509us/step - loss: 0.0035 - val_loss: 0.0116\n",
      "Epoch 26/100\n",
      "6039/6039 [==============================] - 3s 493us/step - loss: 0.0036 - val_loss: 0.0139\n",
      "Epoch 27/100\n",
      "6039/6039 [==============================] - 3s 499us/step - loss: 0.0043 - val_loss: 0.0078\n",
      "Epoch 28/100\n",
      "6039/6039 [==============================] - 3s 495us/step - loss: 0.0034 - val_loss: 0.0092\n",
      "Epoch 29/100\n",
      "6039/6039 [==============================] - 3s 494us/step - loss: 0.0029 - val_loss: 0.0102\n",
      "Epoch 30/100\n",
      "6039/6039 [==============================] - 3s 495us/step - loss: 0.0028 - val_loss: 0.0115\n",
      "Epoch 31/100\n",
      "6039/6039 [==============================] - 3s 504us/step - loss: 0.0026 - val_loss: 0.0117\n",
      "Epoch 32/100\n",
      "6039/6039 [==============================] - 3s 529us/step - loss: 0.0030 - val_loss: 0.0115\n",
      "Epoch 33/100\n",
      "6039/6039 [==============================] - 3s 501us/step - loss: 0.0028 - val_loss: 0.0120\n",
      "Epoch 34/100\n",
      "6039/6039 [==============================] - 3s 493us/step - loss: 0.0025 - val_loss: 0.0126\n",
      "Epoch 35/100\n",
      "6039/6039 [==============================] - 3s 503us/step - loss: 0.0026 - val_loss: 0.0096\n",
      "Epoch 36/100\n",
      "6039/6039 [==============================] - 3s 500us/step - loss: 0.0024 - val_loss: 0.0115\n",
      "Epoch 37/100\n",
      "6039/6039 [==============================] - 3s 499us/step - loss: 0.0026 - val_loss: 0.0134\n",
      "Epoch 38/100\n",
      "6039/6039 [==============================] - 3s 499us/step - loss: 0.0023 - val_loss: 0.0119\n",
      "Epoch 39/100\n",
      "6039/6039 [==============================] - 3s 500us/step - loss: 0.0023 - val_loss: 0.0096\n",
      "Epoch 40/100\n",
      "6039/6039 [==============================] - 3s 502us/step - loss: 0.0024 - val_loss: 0.0120\n",
      "Epoch 41/100\n",
      "6039/6039 [==============================] - 3s 512us/step - loss: 0.0023 - val_loss: 0.0112\n",
      "Epoch 42/100\n",
      "6039/6039 [==============================] - 3s 512us/step - loss: 0.0033 - val_loss: 0.0139\n",
      "Epoch 43/100\n",
      "6039/6039 [==============================] - 3s 499us/step - loss: 0.0021 - val_loss: 0.0103\n",
      "Epoch 44/100\n",
      "6039/6039 [==============================] - 3s 508us/step - loss: 0.0021 - val_loss: 0.0087\n",
      "Epoch 45/100\n",
      "6039/6039 [==============================] - 3s 502us/step - loss: 0.0025 - val_loss: 0.0085\n",
      "Epoch 46/100\n",
      "6039/6039 [==============================] - 3s 497us/step - loss: 0.0022 - val_loss: 0.0096\n",
      "Epoch 47/100\n",
      "6039/6039 [==============================] - 3s 496us/step - loss: 0.0021 - val_loss: 0.0100\n",
      "Epoch 48/100\n",
      "6039/6039 [==============================] - 3s 489us/step - loss: 0.0020 - val_loss: 0.0088\n",
      "Epoch 49/100\n",
      "6039/6039 [==============================] - 3s 489us/step - loss: 0.0020 - val_loss: 0.0111\n",
      "Epoch 50/100\n",
      "6039/6039 [==============================] - 3s 498us/step - loss: 0.0023 - val_loss: 0.0082\n",
      "Epoch 51/100\n",
      "6039/6039 [==============================] - 3s 497us/step - loss: 0.0017 - val_loss: 0.0101\n",
      "Epoch 52/100\n",
      "6039/6039 [==============================] - 3s 492us/step - loss: 0.0020 - val_loss: 0.0099\n",
      "Epoch 53/100\n",
      "6039/6039 [==============================] - 3s 501us/step - loss: 0.0018 - val_loss: 0.0106\n",
      "Epoch 54/100\n",
      "6039/6039 [==============================] - 3s 494us/step - loss: 0.0017 - val_loss: 0.0102\n",
      "Epoch 55/100\n",
      "6039/6039 [==============================] - 3s 491us/step - loss: 0.0016 - val_loss: 0.0103\n",
      "Epoch 56/100\n",
      "6039/6039 [==============================] - 3s 497us/step - loss: 0.0017 - val_loss: 0.0104\n",
      "Epoch 57/100\n",
      "6039/6039 [==============================] - 3s 489us/step - loss: 0.0044 - val_loss: 0.0101\n",
      "Epoch 58/100\n",
      "6039/6039 [==============================] - 3s 503us/step - loss: 0.0022 - val_loss: 0.0106\n",
      "Epoch 59/100\n",
      "6039/6039 [==============================] - 3s 495us/step - loss: 0.0017 - val_loss: 0.0098\n",
      "Epoch 60/100\n",
      "6039/6039 [==============================] - 3s 487us/step - loss: 0.0014 - val_loss: 0.0100\n",
      "Epoch 61/100\n",
      "6039/6039 [==============================] - 3s 510us/step - loss: 0.0015 - val_loss: 0.0110\n",
      "Epoch 62/100\n",
      "6039/6039 [==============================] - 3s 523us/step - loss: 0.0019 - val_loss: 0.0106\n",
      "Epoch 63/100\n",
      "6039/6039 [==============================] - 3s 526us/step - loss: 0.0017 - val_loss: 0.0098\n",
      "Epoch 64/100\n",
      "6039/6039 [==============================] - 3s 524us/step - loss: 0.0014 - val_loss: 0.0114\n",
      "Epoch 65/100\n",
      "6039/6039 [==============================] - 3s 518us/step - loss: 0.0013 - val_loss: 0.0097\n",
      "Epoch 66/100\n",
      "6039/6039 [==============================] - 3s 493us/step - loss: 0.0013 - val_loss: 0.0109\n",
      "Epoch 67/100\n",
      "6039/6039 [==============================] - 3s 496us/step - loss: 0.0013 - val_loss: 0.0110\n",
      "Epoch 68/100\n",
      "6039/6039 [==============================] - 3s 497us/step - loss: 0.0012 - val_loss: 0.0101\n",
      "Epoch 69/100\n",
      "6039/6039 [==============================] - 3s 489us/step - loss: 0.0022 - val_loss: 0.0099\n",
      "Epoch 70/100\n",
      "6039/6039 [==============================] - 3s 496us/step - loss: 0.0015 - val_loss: 0.0098\n",
      "Epoch 71/100\n",
      "6039/6039 [==============================] - 3s 495us/step - loss: 0.0011 - val_loss: 0.0106\n",
      "Epoch 72/100\n",
      "6039/6039 [==============================] - 3s 489us/step - loss: 0.0012 - val_loss: 0.0106\n",
      "Epoch 73/100\n",
      "6039/6039 [==============================] - 3s 497us/step - loss: 0.0012 - val_loss: 0.0111\n",
      "Epoch 74/100\n",
      "6039/6039 [==============================] - 3s 493us/step - loss: 0.0014 - val_loss: 0.0099\n",
      "Epoch 75/100\n",
      "6039/6039 [==============================] - 3s 508us/step - loss: 0.0012 - val_loss: 0.0101\n",
      "Epoch 76/100\n",
      "6039/6039 [==============================] - 3s 497us/step - loss: 0.0011 - val_loss: 0.0110\n",
      "Epoch 77/100\n",
      "6039/6039 [==============================] - 3s 495us/step - loss: 0.0011 - val_loss: 0.0108\n",
      "Epoch 78/100\n",
      "6039/6039 [==============================] - 3s 492us/step - loss: 0.0012 - val_loss: 0.0116\n",
      "Epoch 79/100\n",
      "6039/6039 [==============================] - 3s 494us/step - loss: 0.0017 - val_loss: 0.0126\n",
      "Epoch 80/100\n",
      "6039/6039 [==============================] - 3s 495us/step - loss: 0.0021 - val_loss: 0.0107\n",
      "Epoch 81/100\n",
      "6039/6039 [==============================] - 3s 486us/step - loss: 0.0011 - val_loss: 0.0096\n",
      "Epoch 82/100\n",
      "6039/6039 [==============================] - 3s 494us/step - loss: 9.7054e-04 - val_loss: 0.0098\n",
      "Epoch 83/100\n",
      "6039/6039 [==============================] - 3s 485us/step - loss: 0.0011 - val_loss: 0.0097\n",
      "Epoch 84/100\n",
      "6039/6039 [==============================] - 3s 488us/step - loss: 9.6765e-04 - val_loss: 0.0113\n",
      "Epoch 85/100\n",
      "6039/6039 [==============================] - 3s 492us/step - loss: 0.0011 - val_loss: 0.0103\n",
      "Epoch 86/100\n",
      "6039/6039 [==============================] - 3s 490us/step - loss: 9.8633e-04 - val_loss: 0.0112\n",
      "Epoch 87/100\n",
      "6039/6039 [==============================] - 3s 494us/step - loss: 0.0010 - val_loss: 0.0110\n",
      "Epoch 88/100\n",
      "6039/6039 [==============================] - 3s 494us/step - loss: 0.0012 - val_loss: 0.0106\n",
      "Epoch 89/100\n",
      "6039/6039 [==============================] - 3s 486us/step - loss: 9.4258e-04 - val_loss: 0.0108\n",
      "Epoch 90/100\n",
      "6039/6039 [==============================] - 3s 500us/step - loss: 0.0010 - val_loss: 0.0104\n",
      "Epoch 91/100\n",
      "6039/6039 [==============================] - 3s 510us/step - loss: 0.0020 - val_loss: 0.0106\n",
      "Epoch 92/100\n",
      "6039/6039 [==============================] - 3s 496us/step - loss: 0.0010 - val_loss: 0.0115\n",
      "Epoch 93/100\n",
      "6039/6039 [==============================] - 3s 489us/step - loss: 9.3500e-04 - val_loss: 0.0113\n",
      "Epoch 94/100\n",
      "6039/6039 [==============================] - 3s 492us/step - loss: 8.0107e-04 - val_loss: 0.0105\n",
      "Epoch 95/100\n",
      "6039/6039 [==============================] - 3s 495us/step - loss: 8.4602e-04 - val_loss: 0.0103\n",
      "Epoch 96/100\n",
      "6039/6039 [==============================] - 3s 495us/step - loss: 8.3063e-04 - val_loss: 0.0103\n",
      "Epoch 97/100\n",
      "6039/6039 [==============================] - 3s 497us/step - loss: 9.1181e-04 - val_loss: 0.0102\n",
      "Epoch 98/100\n",
      "6039/6039 [==============================] - 3s 493us/step - loss: 8.6976e-04 - val_loss: 0.0119\n",
      "Epoch 99/100\n",
      "6039/6039 [==============================] - 3s 495us/step - loss: 8.3200e-04 - val_loss: 0.0111\n",
      "Epoch 100/100\n",
      "6039/6039 [==============================] - 3s 490us/step - loss: 0.0010 - val_loss: 0.0109\n"
     ]
    }
   ],
   "source": [
    "history = model.fit(encoder_input_data,\n",
    "                  decoder_target_data,\n",
    "                  n_batch,\n",
    "                  nb_epoch=100,\n",
    "                  validation_split=0.15,\n",
    "                  verbose=1)    "
   ]
  },
  {
   "cell_type": "code",
   "execution_count": 89,
   "metadata": {},
   "outputs": [
    {
     "data": {
      "image/png": "[encoded data removed]",
      "text/plain": [
       "<Figure size 432x288 with 1 Axes>"
      ]
     },
     "metadata": {},
     "output_type": "display_data"
    }
   ],
   "source": [
    "# summarize history for loss\n",
    "plt.plot(history.history['loss'])\n",
    "plt.plot(history.history['val_loss'])\n",
    "plt.title('model loss')\n",
    "plt.ylabel('loss')\n",
    "plt.xlabel('epoch')\n",
    "plt.legend(['train', 'test'], loc='upper left')\n",
    "plt.show()"
   ]
  },
  {
   "cell_type": "markdown",
   "metadata": {},
   "source": [
    "Testing data "
   ]
  },
  {
   "cell_type": "code",
   "execution_count": 90,
   "metadata": {},
   "outputs": [
    {
     "name": "stdout",
     "output_type": "stream",
     "text": [
      "test_encoder_input_data (245, 60, 8) test_output_seq (245, 60, 1)\n"
     ]
    }
   ],
   "source": [
    "test_encoder_input_data , test_output_seq = test[: , :n_lag*features] , test[:, n_lag*features:]\n",
    "test_output_seq = test_output_seq[: , ::features]\n",
    "test_encoder_input_data = test_encoder_input_data.reshape((test_encoder_input_data.shape[0], n_lag, features))\n",
    "test_output_seq = test_output_seq.reshape((test_output_seq.shape[0],test_output_seq.shape[1],1))\n",
    "print(\"test_encoder_input_data\",test_encoder_input_data.shape,\"test_output_seq\",test_output_seq.shape)"
   ]
  },
  {
   "cell_type": "code",
   "execution_count": 91,
   "metadata": {},
   "outputs": [
    {
     "data": {
      "text/plain": [
       "(245, 60, 1)"
      ]
     },
     "execution_count": 91,
     "metadata": {},
     "output_type": "execute_result"
    }
   ],
   "source": [
    "forecasts = model.predict(test_encoder_input_data)\n",
    "forecasts.shape"
   ]
  },
  {
   "cell_type": "code",
   "execution_count": 92,
   "metadata": {},
   "outputs": [],
   "source": [
    "forecasts_BBBB=list()\n",
    "for i in range(len(forecasts)):\n",
    "    forecasts_BBBB.append(forecasts[i,:])\n",
    "\t\n",
    "def inverse_difference(last_ob, forecast):\n",
    "\t# invert first forecast\n",
    "\tinverted = list()\n",
    "\tinverted.append(forecast[0] + last_ob)\n",
    "\tb = np.array([0.0])\n",
    "\t# propagate difference forecast using inverted first value\n",
    "\tfor i in range(1, len(forecast)):\n",
    "\t\tinverted.append(forecast[i] + b)\n",
    "\treturn inverted\n",
    "\t\n",
    "import numpy as np\n",
    "forecast_pred = list()\n",
    "for i in range(len(forecasts)):\n",
    "\t# create array from forecast\n",
    "\tforecast = array(forecasts_BBBB[i])\n",
    "\tforecast = forecast.reshape(1, len(forecast))\n",
    "\t# invert scaling\n",
    "\tinv_scale = scaler_trans.inverse_transform(forecast)\n",
    "\tinv_scale = inv_scale[0, :]\n",
    "\t# invert differencing\n",
    "\t#index = len(series) - n_test + i - 1\n",
    "\tlast_ob = np.array([0.0])\n",
    "\tinv_diff = inverse_difference(last_ob, inv_scale)\n",
    "\t# store\n",
    "\tforecast_pred.append(inv_diff)\n",
    "\n",
    "forecast_14steps = forecast_pred\n",
    "actual = [row[:] for row in test_output_seq]\n",
    "actual_value = list()\n",
    "for i in range(len(actual)):\n",
    "\t# create array from forecast\n",
    "\tforecast = array(actual[i])\n",
    "\tforecast = forecast.reshape(1, len(forecast))\n",
    "\t# invert scaling\n",
    "\tinv_scale = scaler_trans.inverse_transform(forecast)\n",
    "\tinv_scale = inv_scale[0, :]\n",
    "\t# invert differencing\n",
    "\t#index = len(series) - n_test + i - 1\n",
    "\tlast_ob = np.array([0.0])\n",
    "\tinv_diff = inverse_difference(last_ob, inv_scale)\n",
    "\t# store\n",
    "\tactual_value.append(inv_diff)\n",
    " "
   ]
  },
  {
   "cell_type": "code",
   "execution_count": 93,
   "metadata": {},
   "outputs": [
    {
     "name": "stdout",
     "output_type": "stream",
     "text": [
      "(245,)\n"
     ]
    }
   ],
   "source": [
    "#7day\n",
    "day = n_seq\n",
    "actual_np = np.zeros(len(forecast_14steps))\n",
    "print(actual_np.shape)\n",
    "#c = 0\n",
    "#abc[0] = actual_value[6][0]\n",
    "for i in range(0,len(forecast_14steps),day):\n",
    "    if (i+day) <= (len(forecast_14steps)):\n",
    "        for j in range(day):\n",
    "            #print('i=',i,'j=',j,'i+j=',i+j)\n",
    "            if (i/day)< (len(forecast_14steps)/day) :\n",
    "                actual_np[j+i] = actual_value[i+day-1][j]\n",
    "                #print(actual_value[i+day-1][j])\n",
    "                #c += 1\n",
    "                #print('i=',i,'j=',j,'c=',c)\n",
    "            elif (i/day)==(len(forecast_14steps)/day) and j>=day-(len(forecast_14steps)-int(len(forecast_14steps)/day)*day):\n",
    "                actual_np[j+i-(day-(len(forecast_14steps)-int(len(forecast_14steps)/day)*day))] = actual_value[j+i-(day-(len(forecast_14steps)-int(len(forecast_14steps)/day)*day))][-1]\n",
    "                #print(actual_value[i+day-1][j])\n",
    "                #c += 1\n",
    "                #print('i=',i,'j=',j,'c=',c)\n",
    "    else:\n",
    "        #print('i=',i,print(actual_np))\n",
    "        \n",
    "        for j in range(len(test)%day):\n",
    "            #print(actual_np[i+j])\n",
    "            #print(actual_value[-1][j-5])\n",
    "            actual_np[i+j] = actual_value[-1][j-(len(test)%day)]\n",
    "            #actual_np[i+j] = actual_value[-1][j+1]\n",
    "        \n",
    "            \n",
    "#print(actual_np)"
   ]
  },
  {
   "cell_type": "code",
   "execution_count": 94,
   "metadata": {},
   "outputs": [],
   "source": [
    "pred_np = np.zeros(len(forecast_14steps))\n",
    "#c = 0\n",
    "#abc[0] = actual_value[6][0]\n",
    "for i in range(0,len(forecast_14steps),day):\n",
    "    if (i+day) <= (len(forecast_14steps)):\n",
    "        for j in range(day):\n",
    "            if (i/day)< (len(forecast_14steps)/day) :\n",
    "                pred_np[j+i] = forecast_14steps[i+day-1][j]\n",
    "                #c += 1\n",
    "                #print('i=',i,'j=',j,'c=',c)\n",
    "            elif (i/day)==(len(forecast_14steps)/day) and j>=day-(len(forecast_14steps)-int(len(forecast_14steps)/day)*day):\n",
    "                pred_np[j+i-(day-(len(forecast_14steps)-int(len(forecast_14steps)/day)*day))] = forecast_14steps[j+i-(day-(len(forecast_14steps)-int(len(forecast_14steps)/day)*day))][-1]\n",
    "                #c += 1\n",
    "                #print('i=',i,'j=',j,'c=',c)\n",
    "    else:\n",
    "        for j in range(len(test)%day):\n",
    "            pred_np[i+j] = forecast_14steps[-1][j-(len(test)%day)]"
   ]
  },
  {
   "cell_type": "code",
   "execution_count": 95,
   "metadata": {},
   "outputs": [
    {
     "data": {
      "text/plain": [
       "array([[ 1.        , -0.34945239],\n",
       "       [-0.34945239,  1.        ]])"
      ]
     },
     "execution_count": 95,
     "metadata": {},
     "output_type": "execute_result"
    }
   ],
   "source": [
    "np.corrcoef(actual_np,pred_np)"
   ]
  },
  {
   "cell_type": "code",
   "execution_count": 96,
   "metadata": {},
   "outputs": [
    {
     "name": "stdout",
     "output_type": "stream",
     "text": [
      "RMSE: 1.063\n"
     ]
    }
   ],
   "source": [
    "from sklearn.metrics import mean_squared_error\n",
    "rmse = sqrt(mean_squared_error(actual_np, pred_np))\n",
    "print('RMSE: %.3f' % rmse)"
   ]
  },
  {
   "cell_type": "code",
   "execution_count": 97,
   "metadata": {},
   "outputs": [
    {
     "data": {
      "image/png": "[encoded data removed]",
      "text/plain": [
       "<Figure size 1120x800 with 1 Axes>"
      ]
     },
     "metadata": {},
     "output_type": "display_data"
    }
   ],
   "source": [
    "x_axis = np.arange(len(test))\n",
    "plt.figure(num=None, figsize=(14, 10), dpi=80, facecolor='w', edgecolor='k')\n",
    "plt.title('Comparison of Actual Water Value and Predicted Water Value')\n",
    "plt.plot(actual_np,'*-', color='green', label='Actual')\n",
    "plt.plot(pred_np, '^-', color='red', label='Predictive')\n",
    "plt.legend() # 显示图例\n",
    "plt.xlabel('2019')\n",
    "plt.ylabel('Water Level Value')\n",
    "plt.show()"
   ]
  },
  {
   "cell_type": "code",
   "execution_count": null,
   "metadata": {},
   "outputs": [],
   "source": []
  }
 ],
 "metadata": {
  "kernelspec": {
   "display_name": "Python 3",
   "language": "python",
   "name": "python3"
  },
  "language_info": {
   "codemirror_mode": {
    "name": "ipython",
    "version": 3
   },
   "file_extension": ".py",
   "mimetype": "text/x-python",
   "name": "python",
   "nbconvert_exporter": "python",
   "pygments_lexer": "ipython3",
   "version": "3.6.8"
  }
 },
 "nbformat": 4,
 "nbformat_minor": 4
}
